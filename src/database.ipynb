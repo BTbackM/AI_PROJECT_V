{
 "cells": [
  {
   "cell_type": "code",
   "execution_count": 2,
   "metadata": {},
   "outputs": [],
   "source": [
    "# NOTE: Import libraries\n",
    "\n",
    "from Bio import Entrez\n",
    "from Bio import SeqIO\n",
    "from os import path\n",
    "from utils import *\n",
    "\n",
    "import pandas as pd"
   ]
  },
  {
   "cell_type": "code",
   "execution_count": 16,
   "metadata": {},
   "outputs": [],
   "source": [
    "# NOTE: Preprocessing dataset\n",
    "\n",
    "df_path = path.join(DATA_PATH, 'ids.csv')\n",
    "dataset = pd.read_csv(df_path, delimiter='\\t')\n",
    "\n",
    "# NOTE: Remove zero values\n",
    "\n",
    "dataset = dataset[dataset['Tm_(C)'] != 0]\n",
    "dataset.to_csv(path.join(DATA_PATH, 'ids.csv'), sep='\\t', index=False)"
   ]
  },
  {
   "cell_type": "code",
   "execution_count": 37,
   "metadata": {},
   "outputs": [
    {
     "name": "stdout",
     "output_type": "stream",
     "text": [
      "4271\n",
      "4271\n"
     ]
    }
   ],
   "source": [
    "# NOTE: Read dataset of IDs\n",
    "\n",
    "df_path = path.join(DATA_PATH, 'ids.csv')\n",
    "dataset = pd.read_csv(df_path, delimiter='\\t')\n",
    "\n",
    "IDs = dataset['UNIPROT_ID'].tolist()\n",
    "TMs = dataset['Tm_(C)'].tolist()\n",
    "\n",
    "print(len(TMs))\n",
    "print(len(IDs))"
   ]
  },
  {
   "cell_type": "code",
   "execution_count": 39,
   "metadata": {},
   "outputs": [
    {
     "name": "stdout",
     "output_type": "stream",
     "text": [
      "4265\n",
      "4265\n"
     ]
    }
   ],
   "source": [
    "Entrez.email = 'gabriel.loayza@utec.edu.pe'\n",
    "\n",
    "# NOTE: Send request to NCBI as chunks of 200 IDs\n",
    "\n",
    "sequences_ids = []\n",
    "sequences = []\n",
    "sequences_tms = []\n",
    "chunk_size = 200\n",
    "for i in range(0, len(IDs), chunk_size):\n",
    "    with Entrez.efetch(db='protein', id=IDs[i : i + chunk_size], rettype='fasta', retmode='text') as handle:\n",
    "        seeker = 0\n",
    "        for record in SeqIO.parse(handle, 'fasta'):\n",
    "            while IDs[i + seeker] not in record.id and seeker < chunk_size:\n",
    "                seeker += 1\n",
    "            if seeker < chunk_size:\n",
    "                # print(f'{IDs[i + seeker]} - {record.id}')\n",
    "                sequences_ids.append(IDs[i + seeker])\n",
    "                sequences.append(record.seq)\n",
    "                sequences_tms.append(TMs[i + seeker])\n",
    "\n",
    "print(len(sequences_ids))\n",
    "print(len(sequences))"
   ]
  },
  {
   "cell_type": "code",
   "execution_count": 41,
   "metadata": {},
   "outputs": [
    {
     "name": "stdout",
     "output_type": "stream",
     "text": [
      "  UNIPROT_ID                                           SEQUENCE     TM\n",
      "0     P00350  (M, S, K, Q, Q, I, G, V, V, G, M, A, V, M, G, ...  57.83\n",
      "1     P00363  (M, Q, T, F, Q, A, D, L, A, I, V, G, A, G, G, ...  46.77\n",
      "2     P00370  (M, D, Q, T, Y, S, L, E, S, F, L, N, H, V, Q, ...  58.78\n",
      "3     P00448  (M, S, Y, T, L, P, S, L, P, Y, A, Y, D, A, L, ...  66.59\n",
      "4     P00452  (M, N, Q, N, L, L, V, T, K, R, D, G, S, T, E, ...  44.79\n"
     ]
    }
   ],
   "source": [
    "# NOTE: Save sequences\n",
    "\n",
    "sequences_path = path.join(DATA_PATH, 'sequences.csv')\n",
    "sequences_df = pd.DataFrame({\n",
    "    'UNIPROT_ID' : sequences_ids,\n",
    "    'SEQUENCE' : sequences,\n",
    "    'TM' : sequences_tms\n",
    "})\n",
    "\n",
    "print(sequences_df.head())\n",
    "pd.DataFrame(sequences_df).to_csv(sequences_path, index=False, header=True, sep='\\t')"
   ]
  },
  {
   "cell_type": "code",
   "execution_count": 42,
   "metadata": {},
   "outputs": [
    {
     "name": "stdout",
     "output_type": "stream",
     "text": [
      "  UNIPROT_ID                                           SEQUENCE     TM\n",
      "0     P00350  MSKQQIGVVGMAVMGRNLALNIESRGYTVSIFNRSREKTEEVIAEN...  57.83\n",
      "1     P00363  MQTFQADLAIVGAGGAGLRAAIAAAQANPNAKIALISKVYPMRSHT...  46.77\n",
      "2     P00370  MDQTYSLESFLNHVQKRDPNQTEFAQAVREVMTTLWPFLEQNPKYR...  58.78\n",
      "3     P00448  MSYTLPSLPYAYDALEPHFDKQTMEIHHTKHHQTYVNNANAALESL...  66.59\n",
      "4     P00452  MNQNLLVTKRDGSTERINLDKIHRVLDWAAEGLHNVSISQVELRSH...  44.79\n"
     ]
    }
   ],
   "source": [
    "# NOTE: Read sequences\n",
    "\n",
    "df_path = path.join(DATA_PATH, 'sequences.csv')\n",
    "dataset = pd.read_csv(df_path, delimiter='\\t')\n",
    "\n",
    "print(dataset.head())"
   ]
  }
 ],
 "metadata": {
  "kernelspec": {
   "display_name": "Python 3.10.8 ('BT')",
   "language": "python",
   "name": "python3"
  },
  "language_info": {
   "codemirror_mode": {
    "name": "ipython",
    "version": 3
   },
   "file_extension": ".py",
   "mimetype": "text/x-python",
   "name": "python",
   "nbconvert_exporter": "python",
   "pygments_lexer": "ipython3",
   "version": "3.10.8"
  },
  "orig_nbformat": 4,
  "vscode": {
   "interpreter": {
    "hash": "74753fbddb261ced7187b88acbfe63de5b90af9cec9fdb8f0a77239c5ab98aca"
   }
  }
 },
 "nbformat": 4,
 "nbformat_minor": 2
}

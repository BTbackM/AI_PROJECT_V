{
 "cells": [
  {
   "cell_type": "code",
   "execution_count": 1,
   "metadata": {},
   "outputs": [],
   "source": [
    "# NOTE: Import libraries\n",
    "\n",
    "from Bio import Entrez\n",
    "from Bio import SeqIO\n",
    "from os import path\n",
    "from utils import *\n",
    "\n",
    "import pandas as pd"
   ]
  },
  {
   "cell_type": "code",
   "execution_count": 16,
   "metadata": {},
   "outputs": [],
   "source": [
    "# NOTE: Preprocessing dataset\n",
    "\n",
    "df_path = path.join(DATA_PATH, 'ids.csv')\n",
    "dataset = pd.read_csv(df_path, delimiter='\\t')\n",
    "\n",
    "# NOTE: Remove zero values\n",
    "\n",
    "dataset = dataset[dataset['Tm_(C)'] != 0]\n",
    "dataset.to_csv(path.join(DATA_PATH, 'ids.csv'), sep='\\t', index=False)"
   ]
  },
  {
   "cell_type": "code",
   "execution_count": 3,
   "metadata": {},
   "outputs": [
    {
     "name": "stdout",
     "output_type": "stream",
     "text": [
      "4271\n",
      "4271\n"
     ]
    }
   ],
   "source": [
    "# NOTE: Read dataset of IDs\n",
    "\n",
    "df_path = path.join(DATA_PATH, 'ids.csv')\n",
    "dataset = pd.read_csv(df_path, delimiter='\\t')\n",
    "\n",
    "IDs = dataset['UNIPROT_ID'].tolist()\n",
    "TMs = dataset['Tm_(C)'].tolist()\n",
    "\n",
    "print(len(TMs))\n",
    "print(len(IDs))"
   ]
  },
  {
   "cell_type": "code",
   "execution_count": 39,
   "metadata": {},
   "outputs": [
    {
     "name": "stdout",
     "output_type": "stream",
     "text": [
      "4265\n",
      "4265\n"
     ]
    }
   ],
   "source": [
    "Entrez.email = 'gabriel.loayza@utec.edu.pe'\n",
    "\n",
    "# NOTE: Send request to NCBI as chunks of 200 IDs\n",
    "\n",
    "sequences_ids = []\n",
    "sequences = []\n",
    "sequences_tms = []\n",
    "chunk_size = 200\n",
    "for i in range(0, len(IDs), chunk_size):\n",
    "    with Entrez.efetch(db='protein', id=IDs[i : i + chunk_size], rettype='fasta', retmode='text') as handle:\n",
    "        seeker = 0\n",
    "        for record in SeqIO.parse(handle, 'fasta'):\n",
    "            while IDs[i + seeker] not in record.id and seeker < chunk_size:\n",
    "                seeker += 1\n",
    "            if seeker < chunk_size:\n",
    "                # print(f'{IDs[i + seeker]} - {record.id}')\n",
    "                sequences_ids.append(IDs[i + seeker])\n",
    "                sequences.append(record.seq)\n",
    "                sequences_tms.append(TMs[i + seeker])\n",
    "\n",
    "print(len(sequences_ids))\n",
    "print(len(sequences))"
   ]
  },
  {
   "cell_type": "code",
   "execution_count": 2,
   "metadata": {},
   "outputs": [
    {
     "ename": "NameError",
     "evalue": "name 'sequences_ids' is not defined",
     "output_type": "error",
     "traceback": [
      "\u001b[0;31m---------------------------------------------------------------------------\u001b[0m",
      "\u001b[0;31mNameError\u001b[0m                                 Traceback (most recent call last)",
      "Cell \u001b[0;32mIn [2], line 5\u001b[0m\n\u001b[1;32m      1\u001b[0m \u001b[39m# NOTE: Save sequences\u001b[39;00m\n\u001b[1;32m      3\u001b[0m sequences_path \u001b[39m=\u001b[39m path\u001b[39m.\u001b[39mjoin(DATA_PATH, \u001b[39m'\u001b[39m\u001b[39msequences.csv\u001b[39m\u001b[39m'\u001b[39m)\n\u001b[1;32m      4\u001b[0m sequences_df \u001b[39m=\u001b[39m pd\u001b[39m.\u001b[39mDataFrame({\n\u001b[0;32m----> 5\u001b[0m     \u001b[39m'\u001b[39m\u001b[39mUNIPROT_ID\u001b[39m\u001b[39m'\u001b[39m : sequences_ids,\n\u001b[1;32m      6\u001b[0m     \u001b[39m'\u001b[39m\u001b[39mSEQUENCE\u001b[39m\u001b[39m'\u001b[39m : sequences,\n\u001b[1;32m      7\u001b[0m     \u001b[39m'\u001b[39m\u001b[39mTM\u001b[39m\u001b[39m'\u001b[39m : sequences_tms\n\u001b[1;32m      8\u001b[0m })\n\u001b[1;32m     10\u001b[0m \u001b[39mprint\u001b[39m(sequences_df\u001b[39m.\u001b[39mhead())\n\u001b[1;32m     11\u001b[0m pd\u001b[39m.\u001b[39mDataFrame(sequences_df)\u001b[39m.\u001b[39mto_csv(sequences_path, index\u001b[39m=\u001b[39m\u001b[39mFalse\u001b[39;00m, header\u001b[39m=\u001b[39m\u001b[39mTrue\u001b[39;00m, sep\u001b[39m=\u001b[39m\u001b[39m'\u001b[39m\u001b[39m\\t\u001b[39;00m\u001b[39m'\u001b[39m)\n",
      "\u001b[0;31mNameError\u001b[0m: name 'sequences_ids' is not defined"
     ]
    }
   ],
   "source": [
    "# NOTE: Save sequences\n",
    "\n",
    "sequences_path = path.join(DATA_PATH, 'sequences.csv')\n",
    "sequences_df = pd.DataFrame({\n",
    "    'UNIPROT_ID' : sequences_ids,\n",
    "    'SEQUENCE' : sequences,\n",
    "    'TM' : sequences_tms\n",
    "})\n",
    "\n",
    "print(sequences_df.head())\n",
    "pd.DataFrame(sequences_df).to_csv(sequences_path, index=False, header=True, sep='\\t')"
   ]
  },
  {
   "cell_type": "code",
   "execution_count": 3,
   "metadata": {},
   "outputs": [
    {
     "name": "stdout",
     "output_type": "stream",
     "text": [
      "  UNIPROT_ID                                           SEQUENCE     TM\n",
      "0     P00350  MSKQQIGVVGMAVMGRNLALNIESRGYTVSIFNRSREKTEEVIAEN...  57.83\n",
      "1     P00363  MQTFQADLAIVGAGGAGLRAAIAAAQANPNAKIALISKVYPMRSHT...  46.77\n",
      "2     P00370  MDQTYSLESFLNHVQKRDPNQTEFAQAVREVMTTLWPFLEQNPKYR...  58.78\n",
      "3     P00448  MSYTLPSLPYAYDALEPHFDKQTMEIHHTKHHQTYVNNANAALESL...  66.59\n",
      "4     P00452  MNQNLLVTKRDGSTERINLDKIHRVLDWAAEGLHNVSISQVELRSH...  44.79\n"
     ]
    }
   ],
   "source": [
    "# NOTE: Read sequences\n",
    "\n",
    "df_path = path.join(DATA_PATH, 'sequences.csv')\n",
    "dataset = pd.read_csv(df_path, delimiter='\\t')\n",
    "\n",
    "print(dataset.head())"
   ]
  },
  {
   "cell_type": "code",
   "execution_count": 4,
   "metadata": {},
   "outputs": [
    {
     "name": "stdout",
     "output_type": "stream",
     "text": [
      "  UNIPROT_ID                                           SEQUENCE     TM  LABEL\n",
      "0     P00350  MSKQQIGVVGMAVMGRNLALNIESRGYTVSIFNRSREKTEEVIAEN...  57.83      0\n",
      "1     P00363  MQTFQADLAIVGAGGAGLRAAIAAAQANPNAKIALISKVYPMRSHT...  46.77      0\n",
      "2     P00370  MDQTYSLESFLNHVQKRDPNQTEFAQAVREVMTTLWPFLEQNPKYR...  58.78      0\n",
      "3     P00448  MSYTLPSLPYAYDALEPHFDKQTMEIHHTKHHQTYVNNANAALESL...  66.59      0\n",
      "4     P00452  MNQNLLVTKRDGSTERINLDKIHRVLDWAAEGLHNVSISQVELRSH...  44.79      0\n",
      "0    3359\n",
      "1     906\n",
      "Name: LABEL, dtype: int64\n"
     ]
    }
   ],
   "source": [
    "# NOTE: Get labels for sequences\n",
    "\n",
    "dataset.loc[dataset['TM'] <= 70, 'LABEL'] = 0\n",
    "dataset.loc[dataset['TM'] > 70, 'LABEL'] = 1\n",
    "dataset['LABEL'] = dataset['LABEL'].astype(int)\n",
    "\n",
    "print(dataset.head())\n",
    "\n",
    "# NOTE: Count labels\n",
    "\n",
    "print(dataset['LABEL'].value_counts())\n",
    "\n",
    "# NOTE: Save sequences labels\n",
    "\n",
    "sequences_path = path.join(DATA_PATH, 'sequences_labeled.csv')\n",
    "pd.DataFrame(dataset).to_csv(sequences_path, index=False, header=True, sep='\\t')"
   ]
  },
  {
   "cell_type": "code",
   "execution_count": 6,
   "metadata": {},
   "outputs": [
    {
     "name": "stdout",
     "output_type": "stream",
     "text": [
      "26.57 90.99\n"
     ]
    }
   ],
   "source": [
    "# NOTE: Get mix and max temperaturees\n",
    "\n",
    "print(dataset['TM'].min(), dataset['TM'].max())"
   ]
  }
 ],
 "metadata": {
  "kernelspec": {
   "display_name": "Python 3.10.8 ('BT')",
   "language": "python",
   "name": "python3"
  },
  "language_info": {
   "codemirror_mode": {
    "name": "ipython",
    "version": 3
   },
   "file_extension": ".py",
   "mimetype": "text/x-python",
   "name": "python",
   "nbconvert_exporter": "python",
   "pygments_lexer": "ipython3",
   "version": "3.10.8"
  },
  "orig_nbformat": 4,
  "vscode": {
   "interpreter": {
    "hash": "b92d6aeac71e7794186bfd57ed6f0c16cb0b97ecb76005227a2bf8d9c0979060"
   }
  }
 },
 "nbformat": 4,
 "nbformat_minor": 2
}
